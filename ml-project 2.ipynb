{
 "cells": [
  {
   "cell_type": "markdown",
   "id": "3d6ecb07",
   "metadata": {
    "papermill": {
     "duration": 0.077798,
     "end_time": "2022-05-21T16:58:27.556187",
     "exception": false,
     "start_time": "2022-05-21T16:58:27.478389",
     "status": "completed"
    },
    "tags": []
   },
   "source": [
    "# Machine Learning Project\n",
    "##### Clustering and presenting data with different unsupervised techniques \n",
    "# Table Of Content\n",
    "<ul>\n",
    "<li><a href=\"#DatasetAnalysis\">Dataset analysis</a></li>\n",
    "<li><a href=\"#DataProcessing\">Data processing</a></li>\n",
    "<li><a href=\"#ClusteringAnalysis&Validation\">Clustering analysis & Cluster validation</a></li>\n",
    "</ul>"
   ]
  },
  {
   "cell_type": "markdown",
   "id": "daea027a",
   "metadata": {
    "papermill": {
     "duration": 0.075667,
     "end_time": "2022-05-21T16:58:27.713494",
     "exception": false,
     "start_time": "2022-05-21T16:58:27.637827",
     "status": "completed"
    },
    "tags": []
   },
   "source": [
    "# Dataset analysis\n",
    "<a id='DatasetAnalysis'></a>\n",
    "#### Import the pakeges"
   ]
  },
  {
   "cell_type": "code",
   "execution_count": 1,
   "id": "341399be",
   "metadata": {
    "execution": {
     "iopub.execute_input": "2022-05-21T16:58:27.864351Z",
     "iopub.status.busy": "2022-05-21T16:58:27.864013Z",
     "iopub.status.idle": "2022-05-21T16:58:29.561335Z",
     "shell.execute_reply": "2022-05-21T16:58:29.559566Z"
    },
    "papermill": {
     "duration": 1.77551,
     "end_time": "2022-05-21T16:58:29.564027",
     "exception": false,
     "start_time": "2022-05-21T16:58:27.788517",
     "status": "completed"
    },
    "tags": []
   },
   "outputs": [
    {
     "data": {
      "text/plain": [
       "<Figure size 1200x800 with 0 Axes>"
      ]
     },
     "execution_count": 1,
     "metadata": {},
     "output_type": "execute_result"
    },
    {
     "data": {
      "text/plain": [
       "<Figure size 1200x800 with 0 Axes>"
      ]
     },
     "metadata": {},
     "output_type": "display_data"
    }
   ],
   "source": [
    "from sklearn.metrics import f1_score, normalized_mutual_info_score, adjusted_rand_score\n",
    "from sklearn.metrics import confusion_matrix\n",
    "from sklearn import preprocessing\n",
    "import matplotlib.pyplot as plt\n",
    "import seaborn as sns\n",
    "import pandas as pd\n",
    "import numpy as np\n",
    "from matplotlib.pyplot import figure\n",
    "figure(figsize=(15,10), dpi=80)"
   ]
  },
  {
   "cell_type": "markdown",
   "id": "99adfd4d",
   "metadata": {
    "papermill": {
     "duration": 0.073244,
     "end_time": "2022-05-21T16:58:29.715029",
     "exception": false,
     "start_time": "2022-05-21T16:58:29.641785",
     "status": "completed"
    },
    "tags": []
   },
   "source": [
    "#### • Create your own dataset from IRIS the number of samples should not be less than 100"
   ]
  },
  {
   "cell_type": "code",
   "execution_count": 2,
   "id": "d33a441f",
   "metadata": {
    "execution": {
     "iopub.execute_input": "2022-05-21T16:58:29.868683Z",
     "iopub.status.busy": "2022-05-21T16:58:29.868139Z",
     "iopub.status.idle": "2022-05-21T16:58:29.891596Z",
     "shell.execute_reply": "2022-05-21T16:58:29.890019Z"
    },
    "papermill": {
     "duration": 0.104665,
     "end_time": "2022-05-21T16:58:29.894825",
     "exception": false,
     "start_time": "2022-05-21T16:58:29.790160",
     "status": "completed"
    },
    "tags": []
   },
   "outputs": [],
   "source": [
    "all_data = pd.read_csv(\"../input/iris/Iris.csv\")\n",
    "data = all_data.sample(n = 140,random_state=1)"
   ]
  },
  {
   "cell_type": "code",
   "execution_count": 3,
   "id": "00517acf",
   "metadata": {
    "execution": {
     "iopub.execute_input": "2022-05-21T16:58:30.045348Z",
     "iopub.status.busy": "2022-05-21T16:58:30.045045Z",
     "iopub.status.idle": "2022-05-21T16:58:30.066922Z",
     "shell.execute_reply": "2022-05-21T16:58:30.066050Z"
    },
    "papermill": {
     "duration": 0.102042,
     "end_time": "2022-05-21T16:58:30.069715",
     "exception": false,
     "start_time": "2022-05-21T16:58:29.967673",
     "status": "completed"
    },
    "tags": []
   },
   "outputs": [
    {
     "data": {
      "text/html": [
       "<div>\n",
       "<style scoped>\n",
       "    .dataframe tbody tr th:only-of-type {\n",
       "        vertical-align: middle;\n",
       "    }\n",
       "\n",
       "    .dataframe tbody tr th {\n",
       "        vertical-align: top;\n",
       "    }\n",
       "\n",
       "    .dataframe thead th {\n",
       "        text-align: right;\n",
       "    }\n",
       "</style>\n",
       "<table border=\"1\" class=\"dataframe\">\n",
       "  <thead>\n",
       "    <tr style=\"text-align: right;\">\n",
       "      <th></th>\n",
       "      <th>Id</th>\n",
       "      <th>SepalLengthCm</th>\n",
       "      <th>SepalWidthCm</th>\n",
       "      <th>PetalLengthCm</th>\n",
       "      <th>PetalWidthCm</th>\n",
       "      <th>Species</th>\n",
       "    </tr>\n",
       "  </thead>\n",
       "  <tbody>\n",
       "    <tr>\n",
       "      <th>14</th>\n",
       "      <td>15</td>\n",
       "      <td>5.8</td>\n",
       "      <td>4.0</td>\n",
       "      <td>1.2</td>\n",
       "      <td>0.2</td>\n",
       "      <td>Iris-setosa</td>\n",
       "    </tr>\n",
       "    <tr>\n",
       "      <th>98</th>\n",
       "      <td>99</td>\n",
       "      <td>5.1</td>\n",
       "      <td>2.5</td>\n",
       "      <td>3.0</td>\n",
       "      <td>1.1</td>\n",
       "      <td>Iris-versicolor</td>\n",
       "    </tr>\n",
       "    <tr>\n",
       "      <th>75</th>\n",
       "      <td>76</td>\n",
       "      <td>6.6</td>\n",
       "      <td>3.0</td>\n",
       "      <td>4.4</td>\n",
       "      <td>1.4</td>\n",
       "      <td>Iris-versicolor</td>\n",
       "    </tr>\n",
       "    <tr>\n",
       "      <th>16</th>\n",
       "      <td>17</td>\n",
       "      <td>5.4</td>\n",
       "      <td>3.9</td>\n",
       "      <td>1.3</td>\n",
       "      <td>0.4</td>\n",
       "      <td>Iris-setosa</td>\n",
       "    </tr>\n",
       "    <tr>\n",
       "      <th>131</th>\n",
       "      <td>132</td>\n",
       "      <td>7.9</td>\n",
       "      <td>3.8</td>\n",
       "      <td>6.4</td>\n",
       "      <td>2.0</td>\n",
       "      <td>Iris-virginica</td>\n",
       "    </tr>\n",
       "  </tbody>\n",
       "</table>\n",
       "</div>"
      ],
      "text/plain": [
       "      Id  SepalLengthCm  SepalWidthCm  PetalLengthCm  PetalWidthCm  \\\n",
       "14    15            5.8           4.0            1.2           0.2   \n",
       "98    99            5.1           2.5            3.0           1.1   \n",
       "75    76            6.6           3.0            4.4           1.4   \n",
       "16    17            5.4           3.9            1.3           0.4   \n",
       "131  132            7.9           3.8            6.4           2.0   \n",
       "\n",
       "             Species  \n",
       "14       Iris-setosa  \n",
       "98   Iris-versicolor  \n",
       "75   Iris-versicolor  \n",
       "16       Iris-setosa  \n",
       "131   Iris-virginica  "
      ]
     },
     "execution_count": 3,
     "metadata": {},
     "output_type": "execute_result"
    }
   ],
   "source": [
    "data.head()"
   ]
  },
  {
   "cell_type": "markdown",
   "id": "b316aa49",
   "metadata": {
    "papermill": {
     "duration": 0.074602,
     "end_time": "2022-05-21T16:58:30.215017",
     "exception": false,
     "start_time": "2022-05-21T16:58:30.140415",
     "status": "completed"
    },
    "tags": []
   },
   "source": [
    "#### Split target variable from the data"
   ]
  },
  {
   "cell_type": "code",
   "execution_count": 4,
   "id": "bc1cd2dc",
   "metadata": {
    "execution": {
     "iopub.execute_input": "2022-05-21T16:58:30.365306Z",
     "iopub.status.busy": "2022-05-21T16:58:30.364740Z",
     "iopub.status.idle": "2022-05-21T16:58:30.377249Z",
     "shell.execute_reply": "2022-05-21T16:58:30.376444Z"
    },
    "papermill": {
     "duration": 0.088252,
     "end_time": "2022-05-21T16:58:30.379183",
     "exception": false,
     "start_time": "2022-05-21T16:58:30.290931",
     "status": "completed"
    },
    "tags": []
   },
   "outputs": [],
   "source": [
    "Y=data['Species']\n",
    "x=data.drop(['Species','Id'],axis=1)"
   ]
  },
  {
   "cell_type": "code",
   "execution_count": 5,
   "id": "e97cd106",
   "metadata": {
    "execution": {
     "iopub.execute_input": "2022-05-21T16:58:30.532657Z",
     "iopub.status.busy": "2022-05-21T16:58:30.531917Z",
     "iopub.status.idle": "2022-05-21T16:58:30.545621Z",
     "shell.execute_reply": "2022-05-21T16:58:30.544917Z"
    },
    "papermill": {
     "duration": 0.094055,
     "end_time": "2022-05-21T16:58:30.547511",
     "exception": false,
     "start_time": "2022-05-21T16:58:30.453456",
     "status": "completed"
    },
    "tags": []
   },
   "outputs": [
    {
     "data": {
      "text/html": [
       "<div>\n",
       "<style scoped>\n",
       "    .dataframe tbody tr th:only-of-type {\n",
       "        vertical-align: middle;\n",
       "    }\n",
       "\n",
       "    .dataframe tbody tr th {\n",
       "        vertical-align: top;\n",
       "    }\n",
       "\n",
       "    .dataframe thead th {\n",
       "        text-align: right;\n",
       "    }\n",
       "</style>\n",
       "<table border=\"1\" class=\"dataframe\">\n",
       "  <thead>\n",
       "    <tr style=\"text-align: right;\">\n",
       "      <th></th>\n",
       "      <th>SepalLengthCm</th>\n",
       "      <th>SepalWidthCm</th>\n",
       "      <th>PetalLengthCm</th>\n",
       "      <th>PetalWidthCm</th>\n",
       "    </tr>\n",
       "  </thead>\n",
       "  <tbody>\n",
       "    <tr>\n",
       "      <th>14</th>\n",
       "      <td>5.8</td>\n",
       "      <td>4.0</td>\n",
       "      <td>1.2</td>\n",
       "      <td>0.2</td>\n",
       "    </tr>\n",
       "    <tr>\n",
       "      <th>98</th>\n",
       "      <td>5.1</td>\n",
       "      <td>2.5</td>\n",
       "      <td>3.0</td>\n",
       "      <td>1.1</td>\n",
       "    </tr>\n",
       "    <tr>\n",
       "      <th>75</th>\n",
       "      <td>6.6</td>\n",
       "      <td>3.0</td>\n",
       "      <td>4.4</td>\n",
       "      <td>1.4</td>\n",
       "    </tr>\n",
       "    <tr>\n",
       "      <th>16</th>\n",
       "      <td>5.4</td>\n",
       "      <td>3.9</td>\n",
       "      <td>1.3</td>\n",
       "      <td>0.4</td>\n",
       "    </tr>\n",
       "    <tr>\n",
       "      <th>131</th>\n",
       "      <td>7.9</td>\n",
       "      <td>3.8</td>\n",
       "      <td>6.4</td>\n",
       "      <td>2.0</td>\n",
       "    </tr>\n",
       "  </tbody>\n",
       "</table>\n",
       "</div>"
      ],
      "text/plain": [
       "     SepalLengthCm  SepalWidthCm  PetalLengthCm  PetalWidthCm\n",
       "14             5.8           4.0            1.2           0.2\n",
       "98             5.1           2.5            3.0           1.1\n",
       "75             6.6           3.0            4.4           1.4\n",
       "16             5.4           3.9            1.3           0.4\n",
       "131            7.9           3.8            6.4           2.0"
      ]
     },
     "execution_count": 5,
     "metadata": {},
     "output_type": "execute_result"
    }
   ],
   "source": [
    "x.head()"
   ]
  },
  {
   "cell_type": "markdown",
   "id": "f847a8a4",
   "metadata": {
    "papermill": {
     "duration": 0.072733,
     "end_time": "2022-05-21T16:58:30.694428",
     "exception": false,
     "start_time": "2022-05-21T16:58:30.621695",
     "status": "completed"
    },
    "tags": []
   },
   "source": [
    "#### EDA"
   ]
  },
  {
   "cell_type": "code",
   "execution_count": 6,
   "id": "42574226",
   "metadata": {
    "execution": {
     "iopub.execute_input": "2022-05-21T16:58:30.842614Z",
     "iopub.status.busy": "2022-05-21T16:58:30.842103Z",
     "iopub.status.idle": "2022-05-21T16:58:30.857086Z",
     "shell.execute_reply": "2022-05-21T16:58:30.855611Z"
    },
    "papermill": {
     "duration": 0.093628,
     "end_time": "2022-05-21T16:58:30.859412",
     "exception": false,
     "start_time": "2022-05-21T16:58:30.765784",
     "status": "completed"
    },
    "tags": []
   },
   "outputs": [
    {
     "data": {
      "text/html": [
       "<div>\n",
       "<style scoped>\n",
       "    .dataframe tbody tr th:only-of-type {\n",
       "        vertical-align: middle;\n",
       "    }\n",
       "\n",
       "    .dataframe tbody tr th {\n",
       "        vertical-align: top;\n",
       "    }\n",
       "\n",
       "    .dataframe thead th {\n",
       "        text-align: right;\n",
       "    }\n",
       "</style>\n",
       "<table border=\"1\" class=\"dataframe\">\n",
       "  <thead>\n",
       "    <tr style=\"text-align: right;\">\n",
       "      <th></th>\n",
       "      <th>SepalLengthCm</th>\n",
       "      <th>SepalWidthCm</th>\n",
       "      <th>PetalLengthCm</th>\n",
       "      <th>PetalWidthCm</th>\n",
       "    </tr>\n",
       "  </thead>\n",
       "  <tbody>\n",
       "    <tr>\n",
       "      <th>14</th>\n",
       "      <td>5.8</td>\n",
       "      <td>4.0</td>\n",
       "      <td>1.2</td>\n",
       "      <td>0.2</td>\n",
       "    </tr>\n",
       "    <tr>\n",
       "      <th>98</th>\n",
       "      <td>5.1</td>\n",
       "      <td>2.5</td>\n",
       "      <td>3.0</td>\n",
       "      <td>1.1</td>\n",
       "    </tr>\n",
       "    <tr>\n",
       "      <th>75</th>\n",
       "      <td>6.6</td>\n",
       "      <td>3.0</td>\n",
       "      <td>4.4</td>\n",
       "      <td>1.4</td>\n",
       "    </tr>\n",
       "    <tr>\n",
       "      <th>16</th>\n",
       "      <td>5.4</td>\n",
       "      <td>3.9</td>\n",
       "      <td>1.3</td>\n",
       "      <td>0.4</td>\n",
       "    </tr>\n",
       "    <tr>\n",
       "      <th>131</th>\n",
       "      <td>7.9</td>\n",
       "      <td>3.8</td>\n",
       "      <td>6.4</td>\n",
       "      <td>2.0</td>\n",
       "    </tr>\n",
       "  </tbody>\n",
       "</table>\n",
       "</div>"
      ],
      "text/plain": [
       "     SepalLengthCm  SepalWidthCm  PetalLengthCm  PetalWidthCm\n",
       "14             5.8           4.0            1.2           0.2\n",
       "98             5.1           2.5            3.0           1.1\n",
       "75             6.6           3.0            4.4           1.4\n",
       "16             5.4           3.9            1.3           0.4\n",
       "131            7.9           3.8            6.4           2.0"
      ]
     },
     "execution_count": 6,
     "metadata": {},
     "output_type": "execute_result"
    }
   ],
   "source": [
    "x.head()"
   ]
  },
  {
   "cell_type": "code",
   "execution_count": 7,
   "id": "60f5a90b",
   "metadata": {
    "execution": {
     "iopub.execute_input": "2022-05-21T16:58:31.018925Z",
     "iopub.status.busy": "2022-05-21T16:58:31.018350Z",
     "iopub.status.idle": "2022-05-21T16:58:31.043300Z",
     "shell.execute_reply": "2022-05-21T16:58:31.041899Z"
    },
    "papermill": {
     "duration": 0.111439,
     "end_time": "2022-05-21T16:58:31.045868",
     "exception": false,
     "start_time": "2022-05-21T16:58:30.934429",
     "status": "completed"
    },
    "tags": []
   },
   "outputs": [
    {
     "name": "stdout",
     "output_type": "stream",
     "text": [
      "<class 'pandas.core.frame.DataFrame'>\n",
      "Int64Index: 140 entries, 14 to 20\n",
      "Data columns (total 4 columns):\n",
      " #   Column         Non-Null Count  Dtype  \n",
      "---  ------         --------------  -----  \n",
      " 0   SepalLengthCm  140 non-null    float64\n",
      " 1   SepalWidthCm   140 non-null    float64\n",
      " 2   PetalLengthCm  140 non-null    float64\n",
      " 3   PetalWidthCm   140 non-null    float64\n",
      "dtypes: float64(4)\n",
      "memory usage: 5.5 KB\n"
     ]
    }
   ],
   "source": [
    "x.info()"
   ]
  },
  {
   "cell_type": "code",
   "execution_count": 8,
   "id": "fd8b0d9c",
   "metadata": {
    "execution": {
     "iopub.execute_input": "2022-05-21T16:58:31.210040Z",
     "iopub.status.busy": "2022-05-21T16:58:31.209730Z",
     "iopub.status.idle": "2022-05-21T16:58:31.214546Z",
     "shell.execute_reply": "2022-05-21T16:58:31.213809Z"
    },
    "papermill": {
     "duration": 0.090206,
     "end_time": "2022-05-21T16:58:31.216323",
     "exception": false,
     "start_time": "2022-05-21T16:58:31.126117",
     "status": "completed"
    },
    "tags": []
   },
   "outputs": [],
   "source": [
    "#creating labelEncoder to Converting string labels into numbers.\n",
    "le = preprocessing.LabelEncoder()\n",
    "Y = le.fit_transform(Y)"
   ]
  },
  {
   "cell_type": "code",
   "execution_count": 9,
   "id": "3c465317",
   "metadata": {
    "execution": {
     "iopub.execute_input": "2022-05-21T16:58:31.371980Z",
     "iopub.status.busy": "2022-05-21T16:58:31.371329Z",
     "iopub.status.idle": "2022-05-21T16:58:31.377123Z",
     "shell.execute_reply": "2022-05-21T16:58:31.376408Z"
    },
    "papermill": {
     "duration": 0.084988,
     "end_time": "2022-05-21T16:58:31.379403",
     "exception": false,
     "start_time": "2022-05-21T16:58:31.294415",
     "status": "completed"
    },
    "tags": []
   },
   "outputs": [
    {
     "data": {
      "text/plain": [
       "(140, 4)"
      ]
     },
     "execution_count": 9,
     "metadata": {},
     "output_type": "execute_result"
    }
   ],
   "source": [
    "x.shape"
   ]
  },
  {
   "cell_type": "code",
   "execution_count": 10,
   "id": "c6048ce4",
   "metadata": {
    "execution": {
     "iopub.execute_input": "2022-05-21T16:58:31.534487Z",
     "iopub.status.busy": "2022-05-21T16:58:31.533904Z",
     "iopub.status.idle": "2022-05-21T16:58:31.539156Z",
     "shell.execute_reply": "2022-05-21T16:58:31.538335Z"
    },
    "papermill": {
     "duration": 0.084189,
     "end_time": "2022-05-21T16:58:31.541291",
     "exception": false,
     "start_time": "2022-05-21T16:58:31.457102",
     "status": "completed"
    },
    "tags": []
   },
   "outputs": [
    {
     "data": {
      "text/plain": [
       "Index(['SepalLengthCm', 'SepalWidthCm', 'PetalLengthCm', 'PetalWidthCm'], dtype='object')"
      ]
     },
     "execution_count": 10,
     "metadata": {},
     "output_type": "execute_result"
    }
   ],
   "source": [
    "x.columns"
   ]
  },
  {
   "cell_type": "code",
   "execution_count": 11,
   "id": "d06e3df3",
   "metadata": {
    "execution": {
     "iopub.execute_input": "2022-05-21T16:58:31.693683Z",
     "iopub.status.busy": "2022-05-21T16:58:31.693160Z",
     "iopub.status.idle": "2022-05-21T16:58:31.717674Z",
     "shell.execute_reply": "2022-05-21T16:58:31.717033Z"
    },
    "papermill": {
     "duration": 0.100605,
     "end_time": "2022-05-21T16:58:31.720322",
     "exception": false,
     "start_time": "2022-05-21T16:58:31.619717",
     "status": "completed"
    },
    "tags": []
   },
   "outputs": [
    {
     "data": {
      "text/html": [
       "<div>\n",
       "<style scoped>\n",
       "    .dataframe tbody tr th:only-of-type {\n",
       "        vertical-align: middle;\n",
       "    }\n",
       "\n",
       "    .dataframe tbody tr th {\n",
       "        vertical-align: top;\n",
       "    }\n",
       "\n",
       "    .dataframe thead th {\n",
       "        text-align: right;\n",
       "    }\n",
       "</style>\n",
       "<table border=\"1\" class=\"dataframe\">\n",
       "  <thead>\n",
       "    <tr style=\"text-align: right;\">\n",
       "      <th></th>\n",
       "      <th>SepalLengthCm</th>\n",
       "      <th>SepalWidthCm</th>\n",
       "      <th>PetalLengthCm</th>\n",
       "      <th>PetalWidthCm</th>\n",
       "    </tr>\n",
       "  </thead>\n",
       "  <tbody>\n",
       "    <tr>\n",
       "      <th>count</th>\n",
       "      <td>140.000000</td>\n",
       "      <td>140.000000</td>\n",
       "      <td>140.000000</td>\n",
       "      <td>140.000000</td>\n",
       "    </tr>\n",
       "    <tr>\n",
       "      <th>mean</th>\n",
       "      <td>5.827143</td>\n",
       "      <td>3.067857</td>\n",
       "      <td>3.719286</td>\n",
       "      <td>1.192857</td>\n",
       "    </tr>\n",
       "    <tr>\n",
       "      <th>std</th>\n",
       "      <td>0.835700</td>\n",
       "      <td>0.441754</td>\n",
       "      <td>1.772447</td>\n",
       "      <td>0.769625</td>\n",
       "    </tr>\n",
       "    <tr>\n",
       "      <th>min</th>\n",
       "      <td>4.300000</td>\n",
       "      <td>2.000000</td>\n",
       "      <td>1.000000</td>\n",
       "      <td>0.100000</td>\n",
       "    </tr>\n",
       "    <tr>\n",
       "      <th>25%</th>\n",
       "      <td>5.100000</td>\n",
       "      <td>2.800000</td>\n",
       "      <td>1.500000</td>\n",
       "      <td>0.300000</td>\n",
       "    </tr>\n",
       "    <tr>\n",
       "      <th>50%</th>\n",
       "      <td>5.750000</td>\n",
       "      <td>3.000000</td>\n",
       "      <td>4.300000</td>\n",
       "      <td>1.300000</td>\n",
       "    </tr>\n",
       "    <tr>\n",
       "      <th>75%</th>\n",
       "      <td>6.400000</td>\n",
       "      <td>3.400000</td>\n",
       "      <td>5.100000</td>\n",
       "      <td>1.800000</td>\n",
       "    </tr>\n",
       "    <tr>\n",
       "      <th>max</th>\n",
       "      <td>7.900000</td>\n",
       "      <td>4.400000</td>\n",
       "      <td>6.900000</td>\n",
       "      <td>2.500000</td>\n",
       "    </tr>\n",
       "  </tbody>\n",
       "</table>\n",
       "</div>"
      ],
      "text/plain": [
       "       SepalLengthCm  SepalWidthCm  PetalLengthCm  PetalWidthCm\n",
       "count     140.000000    140.000000     140.000000    140.000000\n",
       "mean        5.827143      3.067857       3.719286      1.192857\n",
       "std         0.835700      0.441754       1.772447      0.769625\n",
       "min         4.300000      2.000000       1.000000      0.100000\n",
       "25%         5.100000      2.800000       1.500000      0.300000\n",
       "50%         5.750000      3.000000       4.300000      1.300000\n",
       "75%         6.400000      3.400000       5.100000      1.800000\n",
       "max         7.900000      4.400000       6.900000      2.500000"
      ]
     },
     "execution_count": 11,
     "metadata": {},
     "output_type": "execute_result"
    }
   ],
   "source": [
    "x.describe()"
   ]
  },
  {
   "cell_type": "code",
   "execution_count": 12,
   "id": "71fb4865",
   "metadata": {
    "execution": {
     "iopub.execute_input": "2022-05-21T16:58:31.882119Z",
     "iopub.status.busy": "2022-05-21T16:58:31.881576Z",
     "iopub.status.idle": "2022-05-21T16:58:31.892308Z",
     "shell.execute_reply": "2022-05-21T16:58:31.891585Z"
    },
    "papermill": {
     "duration": 0.090668,
     "end_time": "2022-05-21T16:58:31.895723",
     "exception": false,
     "start_time": "2022-05-21T16:58:31.805055",
     "status": "completed"
    },
    "tags": []
   },
   "outputs": [
    {
     "name": "stdout",
     "output_type": "stream",
     "text": [
      "<class 'pandas.core.frame.DataFrame'>\n",
      "Int64Index: 140 entries, 14 to 20\n",
      "Data columns (total 4 columns):\n",
      " #   Column         Non-Null Count  Dtype  \n",
      "---  ------         --------------  -----  \n",
      " 0   SepalLengthCm  140 non-null    float64\n",
      " 1   SepalWidthCm   140 non-null    float64\n",
      " 2   PetalLengthCm  140 non-null    float64\n",
      " 3   PetalWidthCm   140 non-null    float64\n",
      "dtypes: float64(4)\n",
      "memory usage: 5.5 KB\n"
     ]
    }
   ],
   "source": [
    "x.info()"
   ]
  },
  {
   "cell_type": "markdown",
   "id": "2e70f7ef",
   "metadata": {
    "papermill": {
     "duration": 0.080852,
     "end_time": "2022-05-21T16:58:32.058220",
     "exception": false,
     "start_time": "2022-05-21T16:58:31.977368",
     "status": "completed"
    },
    "tags": []
   },
   "source": [
    "#### • Show the data distribution of the dataset using pdf, cdf function in stats package"
   ]
  },
  {
   "cell_type": "code",
   "execution_count": 13,
   "id": "0f90322e",
   "metadata": {
    "execution": {
     "iopub.execute_input": "2022-05-21T16:58:32.222846Z",
     "iopub.status.busy": "2022-05-21T16:58:32.222310Z",
     "iopub.status.idle": "2022-05-21T16:58:32.769798Z",
     "shell.execute_reply": "2022-05-21T16:58:32.768145Z"
    },
    "papermill": {
     "duration": 0.632901,
     "end_time": "2022-05-21T16:58:32.772254",
     "exception": false,
     "start_time": "2022-05-21T16:58:32.139353",
     "status": "completed"
    },
    "tags": []
   },
   "outputs": [
    {
     "name": "stderr",
     "output_type": "stream",
     "text": [
      "/opt/conda/lib/python3.7/site-packages/seaborn/distributions.py:2619: FutureWarning: `distplot` is a deprecated function and will be removed in a future version. Please adapt your code to use either `displot` (a figure-level function with similar flexibility) or `histplot` (an axes-level function for histograms).\n",
      "  warnings.warn(msg, FutureWarning)\n"
     ]
    },
    {
     "data": {
      "image/png": "[encoded data removed]",
      "text/plain": [
       "<Figure size 432x288 with 1 Axes>"
      ]
     },
     "metadata": {
      "needs_background": "light"
     },
     "output_type": "display_data"
    }
   ],
   "source": [
    "from scipy import stats\n",
    "from scipy.stats import norm\n",
    "from scipy.stats import uniform\n",
    "\n",
    "ax = sns.distplot(x,\n",
    "                  bins=100,\n",
    "                  kde=True,\n",
    "                  color='skyblue',\n",
    "                  hist_kws={\"linewidth\": 15,'alpha':1})\n",
    "ax.set(xlabel='Normal Distribution', ylabel='Frequency')\n",
    "\n",
    "_, bins, _ = plt.hist(x, 10, density=1, alpha=0.5)\n",
    "mu, sigma = norm.fit(x)"
   ]
  },
  {
   "cell_type": "markdown",
   "id": "6f165d2a",
   "metadata": {
    "papermill": {
     "duration": 0.081929,
     "end_time": "2022-05-21T16:58:32.936210",
     "exception": false,
     "start_time": "2022-05-21T16:58:32.854281",
     "status": "completed"
    },
    "tags": []
   },
   "source": [
    "#### PDF Function"
   ]
  },
  {
   "cell_type": "code",
   "execution_count": 14,
   "id": "09c3f7dd",
   "metadata": {
    "execution": {
     "iopub.execute_input": "2022-05-21T16:58:33.096664Z",
     "iopub.status.busy": "2022-05-21T16:58:33.096382Z",
     "iopub.status.idle": "2022-05-21T16:58:33.301579Z",
     "shell.execute_reply": "2022-05-21T16:58:33.300938Z"
    },
    "papermill": {
     "duration": 0.289103,
     "end_time": "2022-05-21T16:58:33.303707",
     "exception": false,
     "start_time": "2022-05-21T16:58:33.014604",
     "status": "completed"
    },
    "tags": []
   },
   "outputs": [
    {
     "data": {
      "image/png": "[encoded data removed]",
      "text/plain": [
       "<Figure size 432x288 with 1 Axes>"
      ]
     },
     "metadata": {
      "needs_background": "light"
     },
     "output_type": "display_data"
    }
   ],
   "source": [
    "best_fit_line = norm.pdf(bins, mu, sigma)\n",
    "plt.plot(bins, best_fit_line)\n",
    "plt.show()"
   ]
  },
  {
   "cell_type": "markdown",
   "id": "f00a50a5",
   "metadata": {
    "papermill": {
     "duration": 0.076735,
     "end_time": "2022-05-21T16:58:33.462552",
     "exception": false,
     "start_time": "2022-05-21T16:58:33.385817",
     "status": "completed"
    },
    "tags": []
   },
   "source": [
    "#### CDF Function"
   ]
  },
  {
   "cell_type": "code",
   "execution_count": 15,
   "id": "ceaf234b",
   "metadata": {
    "execution": {
     "iopub.execute_input": "2022-05-21T16:58:33.622608Z",
     "iopub.status.busy": "2022-05-21T16:58:33.622030Z",
     "iopub.status.idle": "2022-05-21T16:58:33.821827Z",
     "shell.execute_reply": "2022-05-21T16:58:33.821189Z"
    },
    "papermill": {
     "duration": 0.282595,
     "end_time": "2022-05-21T16:58:33.823911",
     "exception": false,
     "start_time": "2022-05-21T16:58:33.541316",
     "status": "completed"
    },
    "tags": []
   },
   "outputs": [
    {
     "data": {
      "image/png": "[encoded data removed]",
      "text/plain": [
       "<Figure size 432x288 with 1 Axes>"
      ]
     },
     "metadata": {
      "needs_background": "light"
     },
     "output_type": "display_data"
    }
   ],
   "source": [
    "best_fit_line = norm.cdf(bins, mu, sigma)\n",
    "plt.plot(bins, best_fit_line)\n",
    "plt.show()"
   ]
  },
  {
   "cell_type": "markdown",
   "id": "99e57970",
   "metadata": {
    "papermill": {
     "duration": 0.081992,
     "end_time": "2022-05-21T16:58:33.991574",
     "exception": false,
     "start_time": "2022-05-21T16:58:33.909582",
     "status": "completed"
    },
    "tags": []
   },
   "source": [
    "#### • The histogram of the dataset\n"
   ]
  },
  {
   "cell_type": "code",
   "execution_count": 16,
   "id": "7958a7ec",
   "metadata": {
    "execution": {
     "iopub.execute_input": "2022-05-21T16:58:34.154487Z",
     "iopub.status.busy": "2022-05-21T16:58:34.153875Z",
     "iopub.status.idle": "2022-05-21T16:58:34.864094Z",
     "shell.execute_reply": "2022-05-21T16:58:34.863065Z"
    },
    "papermill": {
     "duration": 0.795621,
     "end_time": "2022-05-21T16:58:34.866799",
     "exception": false,
     "start_time": "2022-05-21T16:58:34.071178",
     "status": "completed"
    },
    "tags": []
   },
   "outputs": [
    {
     "data": {
      "image/png": "[encoded data removed]",
      "text/plain": [
       "<Figure size 1080x720 with 4 Axes>"
      ]
     },
     "metadata": {
      "needs_background": "light"
     },
     "output_type": "display_data"
    }
   ],
   "source": [
    "x.hist(figsize=(15,10));"
   ]
  },
  {
   "cell_type": "code",
   "execution_count": 17,
   "id": "fabbc682",
   "metadata": {
    "execution": {
     "iopub.execute_input": "2022-05-21T16:58:35.040224Z",
     "iopub.status.busy": "2022-05-21T16:58:35.039924Z",
     "iopub.status.idle": "2022-05-21T16:58:35.069267Z",
     "shell.execute_reply": "2022-05-21T16:58:35.067947Z"
    },
    "papermill": {
     "duration": 0.118498,
     "end_time": "2022-05-21T16:58:35.072306",
     "exception": false,
     "start_time": "2022-05-21T16:58:34.953808",
     "status": "completed"
    },
    "scrolled": true,
    "tags": []
   },
   "outputs": [
    {
     "data": {
      "text/html": [
       "<div>\n",
       "<style scoped>\n",
       "    .dataframe tbody tr th:only-of-type {\n",
       "        vertical-align: middle;\n",
       "    }\n",
       "\n",
       "    .dataframe tbody tr th {\n",
       "        vertical-align: top;\n",
       "    }\n",
       "\n",
       "    .dataframe thead th {\n",
       "        text-align: right;\n",
       "    }\n",
       "</style>\n",
       "<table border=\"1\" class=\"dataframe\">\n",
       "  <thead>\n",
       "    <tr style=\"text-align: right;\">\n",
       "      <th></th>\n",
       "      <th>SepalLengthCm</th>\n",
       "      <th>SepalWidthCm</th>\n",
       "      <th>PetalLengthCm</th>\n",
       "      <th>PetalWidthCm</th>\n",
       "    </tr>\n",
       "  </thead>\n",
       "  <tbody>\n",
       "    <tr>\n",
       "      <th>count</th>\n",
       "      <td>140.000000</td>\n",
       "      <td>140.000000</td>\n",
       "      <td>140.000000</td>\n",
       "      <td>140.000000</td>\n",
       "    </tr>\n",
       "    <tr>\n",
       "      <th>mean</th>\n",
       "      <td>5.827143</td>\n",
       "      <td>3.067857</td>\n",
       "      <td>3.719286</td>\n",
       "      <td>1.192857</td>\n",
       "    </tr>\n",
       "    <tr>\n",
       "      <th>std</th>\n",
       "      <td>0.835700</td>\n",
       "      <td>0.441754</td>\n",
       "      <td>1.772447</td>\n",
       "      <td>0.769625</td>\n",
       "    </tr>\n",
       "    <tr>\n",
       "      <th>min</th>\n",
       "      <td>4.300000</td>\n",
       "      <td>2.000000</td>\n",
       "      <td>1.000000</td>\n",
       "      <td>0.100000</td>\n",
       "    </tr>\n",
       "    <tr>\n",
       "      <th>25%</th>\n",
       "      <td>5.100000</td>\n",
       "      <td>2.800000</td>\n",
       "      <td>1.500000</td>\n",
       "      <td>0.300000</td>\n",
       "    </tr>\n",
       "    <tr>\n",
       "      <th>50%</th>\n",
       "      <td>5.750000</td>\n",
       "      <td>3.000000</td>\n",
       "      <td>4.300000</td>\n",
       "      <td>1.300000</td>\n",
       "    </tr>\n",
       "    <tr>\n",
       "      <th>75%</th>\n",
       "      <td>6.400000</td>\n",
       "      <td>3.400000</td>\n",
       "      <td>5.100000</td>\n",
       "      <td>1.800000</td>\n",
       "    </tr>\n",
       "    <tr>\n",
       "      <th>max</th>\n",
       "      <td>7.900000</td>\n",
       "      <td>4.400000</td>\n",
       "      <td>6.900000</td>\n",
       "      <td>2.500000</td>\n",
       "    </tr>\n",
       "  </tbody>\n",
       "</table>\n",
       "</div>"
      ],
      "text/plain": [
       "       SepalLengthCm  SepalWidthCm  PetalLengthCm  PetalWidthCm\n",
       "count     140.000000    140.000000     140.000000    140.000000\n",
       "mean        5.827143      3.067857       3.719286      1.192857\n",
       "std         0.835700      0.441754       1.772447      0.769625\n",
       "min         4.300000      2.000000       1.000000      0.100000\n",
       "25%         5.100000      2.800000       1.500000      0.300000\n",
       "50%         5.750000      3.000000       4.300000      1.300000\n",
       "75%         6.400000      3.400000       5.100000      1.800000\n",
       "max         7.900000      4.400000       6.900000      2.500000"
      ]
     },
     "execution_count": 17,
     "metadata": {},
     "output_type": "execute_result"
    }
   ],
   "source": [
    "x.describe()"
   ]
  },
  {
   "cell_type": "markdown",
   "id": "6369a07c",
   "metadata": {
    "papermill": {
     "duration": 0.082554,
     "end_time": "2022-05-21T16:58:35.238661",
     "exception": false,
     "start_time": "2022-05-21T16:58:35.156107",
     "status": "completed"
    },
    "tags": []
   },
   "source": [
    "#### • Find the mean and stander division \n",
    " "
   ]
  },
  {
   "cell_type": "code",
   "execution_count": 18,
   "id": "9033feb8",
   "metadata": {
    "execution": {
     "iopub.execute_input": "2022-05-21T16:58:35.410533Z",
     "iopub.status.busy": "2022-05-21T16:58:35.409907Z",
     "iopub.status.idle": "2022-05-21T16:58:35.419770Z",
     "shell.execute_reply": "2022-05-21T16:58:35.418382Z"
    },
    "papermill": {
     "duration": 0.097355,
     "end_time": "2022-05-21T16:58:35.422063",
     "exception": false,
     "start_time": "2022-05-21T16:58:35.324708",
     "status": "completed"
    },
    "tags": []
   },
   "outputs": [
    {
     "data": {
      "text/plain": [
       "SepalLengthCm    5.827143\n",
       "SepalWidthCm     3.067857\n",
       "PetalLengthCm    3.719286\n",
       "PetalWidthCm     1.192857\n",
       "dtype: float64"
      ]
     },
     "execution_count": 18,
     "metadata": {},
     "output_type": "execute_result"
    }
   ],
   "source": [
    "x.mean()"
   ]
  },
  {
   "cell_type": "code",
   "execution_count": 19,
   "id": "fe0d6057",
   "metadata": {
    "execution": {
     "iopub.execute_input": "2022-05-21T16:58:35.594881Z",
     "iopub.status.busy": "2022-05-21T16:58:35.593873Z",
     "iopub.status.idle": "2022-05-21T16:58:35.601759Z",
     "shell.execute_reply": "2022-05-21T16:58:35.601104Z"
    },
    "papermill": {
     "duration": 0.094452,
     "end_time": "2022-05-21T16:58:35.603694",
     "exception": false,
     "start_time": "2022-05-21T16:58:35.509242",
     "status": "completed"
    },
    "tags": []
   },
   "outputs": [
    {
     "data": {
      "text/plain": [
       "SepalLengthCm    0.835700\n",
       "SepalWidthCm     0.441754\n",
       "PetalLengthCm    1.772447\n",
       "PetalWidthCm     0.769625\n",
       "dtype: float64"
      ]
     },
     "execution_count": 19,
     "metadata": {},
     "output_type": "execute_result"
    }
   ],
   "source": [
    "x.std()"
   ]
  },
  {
   "cell_type": "markdown",
   "id": "dbc2d1ac",
   "metadata": {
    "papermill": {
     "duration": 0.080261,
     "end_time": "2022-05-21T16:58:35.770377",
     "exception": false,
     "start_time": "2022-05-21T16:58:35.690116",
     "status": "completed"
    },
    "tags": []
   },
   "source": [
    "# Data processing\n",
    "<a id='DataProcessing'></a>\n"
   ]
  },
  {
   "cell_type": "markdown",
   "id": "60a9b50f",
   "metadata": {
    "papermill": {
     "duration": 0.082644,
     "end_time": "2022-05-21T16:58:35.936222",
     "exception": false,
     "start_time": "2022-05-21T16:58:35.853578",
     "status": "completed"
    },
    "tags": []
   },
   "source": [
    "#### • Assess Missing Data"
   ]
  },
  {
   "cell_type": "code",
   "execution_count": 20,
   "id": "600feef8",
   "metadata": {
    "execution": {
     "iopub.execute_input": "2022-05-21T16:58:36.102224Z",
     "iopub.status.busy": "2022-05-21T16:58:36.101900Z",
     "iopub.status.idle": "2022-05-21T16:58:36.109727Z",
     "shell.execute_reply": "2022-05-21T16:58:36.108693Z"
    },
    "papermill": {
     "duration": 0.093135,
     "end_time": "2022-05-21T16:58:36.111925",
     "exception": false,
     "start_time": "2022-05-21T16:58:36.018790",
     "status": "completed"
    },
    "tags": []
   },
   "outputs": [
    {
     "data": {
      "text/plain": [
       "SepalLengthCm    0\n",
       "SepalWidthCm     0\n",
       "PetalLengthCm    0\n",
       "PetalWidthCm     0\n",
       "dtype: int64"
      ]
     },
     "execution_count": 20,
     "metadata": {},
     "output_type": "execute_result"
    }
   ],
   "source": [
    "x.isnull().sum()"
   ]
  },
  {
   "cell_type": "markdown",
   "id": "e73b722b",
   "metadata": {
    "papermill": {
     "duration": 0.079847,
     "end_time": "2022-05-21T16:58:36.274423",
     "exception": false,
     "start_time": "2022-05-21T16:58:36.194576",
     "status": "completed"
    },
    "tags": []
   },
   "source": [
    "#### There is no missimg data"
   ]
  },
  {
   "cell_type": "markdown",
   "id": "87764c94",
   "metadata": {
    "papermill": {
     "duration": 0.084888,
     "end_time": "2022-05-21T16:58:36.442472",
     "exception": false,
     "start_time": "2022-05-21T16:58:36.357584",
     "status": "completed"
    },
    "tags": []
   },
   "source": [
    "#### • Convert Missing Value Codes to NaNs\n"
   ]
  },
  {
   "cell_type": "code",
   "execution_count": 21,
   "id": "f523f00d",
   "metadata": {
    "execution": {
     "iopub.execute_input": "2022-05-21T16:58:36.612217Z",
     "iopub.status.busy": "2022-05-21T16:58:36.610850Z",
     "iopub.status.idle": "2022-05-21T16:58:36.628066Z",
     "shell.execute_reply": "2022-05-21T16:58:36.627290Z"
    },
    "papermill": {
     "duration": 0.106986,
     "end_time": "2022-05-21T16:58:36.631140",
     "exception": false,
     "start_time": "2022-05-21T16:58:36.524154",
     "status": "completed"
    },
    "tags": []
   },
   "outputs": [
    {
     "data": {
      "text/html": [
       "<div>\n",
       "<style scoped>\n",
       "    .dataframe tbody tr th:only-of-type {\n",
       "        vertical-align: middle;\n",
       "    }\n",
       "\n",
       "    .dataframe tbody tr th {\n",
       "        vertical-align: top;\n",
       "    }\n",
       "\n",
       "    .dataframe thead th {\n",
       "        text-align: right;\n",
       "    }\n",
       "</style>\n",
       "<table border=\"1\" class=\"dataframe\">\n",
       "  <thead>\n",
       "    <tr style=\"text-align: right;\">\n",
       "      <th></th>\n",
       "      <th>SepalLengthCm</th>\n",
       "      <th>SepalWidthCm</th>\n",
       "      <th>PetalLengthCm</th>\n",
       "      <th>PetalWidthCm</th>\n",
       "    </tr>\n",
       "  </thead>\n",
       "  <tbody>\n",
       "    <tr>\n",
       "      <th>14</th>\n",
       "      <td>5.8</td>\n",
       "      <td>4.0</td>\n",
       "      <td>1.2</td>\n",
       "      <td>0.2</td>\n",
       "    </tr>\n",
       "    <tr>\n",
       "      <th>98</th>\n",
       "      <td>5.1</td>\n",
       "      <td>2.5</td>\n",
       "      <td>3.0</td>\n",
       "      <td>1.1</td>\n",
       "    </tr>\n",
       "    <tr>\n",
       "      <th>75</th>\n",
       "      <td>6.6</td>\n",
       "      <td>3.0</td>\n",
       "      <td>4.4</td>\n",
       "      <td>1.4</td>\n",
       "    </tr>\n",
       "    <tr>\n",
       "      <th>16</th>\n",
       "      <td>5.4</td>\n",
       "      <td>3.9</td>\n",
       "      <td>1.3</td>\n",
       "      <td>0.4</td>\n",
       "    </tr>\n",
       "    <tr>\n",
       "      <th>131</th>\n",
       "      <td>7.9</td>\n",
       "      <td>3.8</td>\n",
       "      <td>6.4</td>\n",
       "      <td>2.0</td>\n",
       "    </tr>\n",
       "    <tr>\n",
       "      <th>...</th>\n",
       "      <td>...</td>\n",
       "      <td>...</td>\n",
       "      <td>...</td>\n",
       "      <td>...</td>\n",
       "    </tr>\n",
       "    <tr>\n",
       "      <th>96</th>\n",
       "      <td>5.7</td>\n",
       "      <td>2.9</td>\n",
       "      <td>4.2</td>\n",
       "      <td>1.3</td>\n",
       "    </tr>\n",
       "    <tr>\n",
       "      <th>68</th>\n",
       "      <td>6.2</td>\n",
       "      <td>2.2</td>\n",
       "      <td>4.5</td>\n",
       "      <td>1.5</td>\n",
       "    </tr>\n",
       "    <tr>\n",
       "      <th>50</th>\n",
       "      <td>7.0</td>\n",
       "      <td>3.2</td>\n",
       "      <td>4.7</td>\n",
       "      <td>1.4</td>\n",
       "    </tr>\n",
       "    <tr>\n",
       "      <th>101</th>\n",
       "      <td>5.8</td>\n",
       "      <td>2.7</td>\n",
       "      <td>5.1</td>\n",
       "      <td>1.9</td>\n",
       "    </tr>\n",
       "    <tr>\n",
       "      <th>20</th>\n",
       "      <td>5.4</td>\n",
       "      <td>3.4</td>\n",
       "      <td>1.7</td>\n",
       "      <td>0.2</td>\n",
       "    </tr>\n",
       "  </tbody>\n",
       "</table>\n",
       "<p>140 rows × 4 columns</p>\n",
       "</div>"
      ],
      "text/plain": [
       "     SepalLengthCm  SepalWidthCm  PetalLengthCm  PetalWidthCm\n",
       "14             5.8           4.0            1.2           0.2\n",
       "98             5.1           2.5            3.0           1.1\n",
       "75             6.6           3.0            4.4           1.4\n",
       "16             5.4           3.9            1.3           0.4\n",
       "131            7.9           3.8            6.4           2.0\n",
       "..             ...           ...            ...           ...\n",
       "96             5.7           2.9            4.2           1.3\n",
       "68             6.2           2.2            4.5           1.5\n",
       "50             7.0           3.2            4.7           1.4\n",
       "101            5.8           2.7            5.1           1.9\n",
       "20             5.4           3.4            1.7           0.2\n",
       "\n",
       "[140 rows x 4 columns]"
      ]
     },
     "execution_count": 21,
     "metadata": {},
     "output_type": "execute_result"
    }
   ],
   "source": [
    "x.replace('',np.NaN)"
   ]
  },
  {
   "cell_type": "markdown",
   "id": "03658d52",
   "metadata": {
    "papermill": {
     "duration": 0.081919,
     "end_time": "2022-05-21T16:58:36.796470",
     "exception": false,
     "start_time": "2022-05-21T16:58:36.714551",
     "status": "completed"
    },
    "tags": []
   },
   "source": [
    "#### There is no missing values to convert it"
   ]
  },
  {
   "cell_type": "markdown",
   "id": "dd0f3d14",
   "metadata": {
    "papermill": {
     "duration": 0.08226,
     "end_time": "2022-05-21T16:58:36.965604",
     "exception": false,
     "start_time": "2022-05-21T16:58:36.883344",
     "status": "completed"
    },
    "tags": []
   },
   "source": [
    "#### • Normalize the dataset"
   ]
  },
  {
   "cell_type": "code",
   "execution_count": 22,
   "id": "78232219",
   "metadata": {
    "execution": {
     "iopub.execute_input": "2022-05-21T16:58:37.138825Z",
     "iopub.status.busy": "2022-05-21T16:58:37.138296Z",
     "iopub.status.idle": "2022-05-21T16:58:37.155400Z",
     "shell.execute_reply": "2022-05-21T16:58:37.153905Z"
    },
    "papermill": {
     "duration": 0.106971,
     "end_time": "2022-05-21T16:58:37.158080",
     "exception": false,
     "start_time": "2022-05-21T16:58:37.051109",
     "status": "completed"
    },
    "tags": []
   },
   "outputs": [
    {
     "data": {
      "text/html": [
       "<div>\n",
       "<style scoped>\n",
       "    .dataframe tbody tr th:only-of-type {\n",
       "        vertical-align: middle;\n",
       "    }\n",
       "\n",
       "    .dataframe tbody tr th {\n",
       "        vertical-align: top;\n",
       "    }\n",
       "\n",
       "    .dataframe thead th {\n",
       "        text-align: right;\n",
       "    }\n",
       "</style>\n",
       "<table border=\"1\" class=\"dataframe\">\n",
       "  <thead>\n",
       "    <tr style=\"text-align: right;\">\n",
       "      <th></th>\n",
       "      <th>SepalLengthCm</th>\n",
       "      <th>SepalWidthCm</th>\n",
       "      <th>PetalLengthCm</th>\n",
       "      <th>PetalWidthCm</th>\n",
       "    </tr>\n",
       "  </thead>\n",
       "  <tbody>\n",
       "    <tr>\n",
       "      <th>0</th>\n",
       "      <td>-0.032596</td>\n",
       "      <td>2.117672</td>\n",
       "      <td>-1.426464</td>\n",
       "      <td>-1.294685</td>\n",
       "    </tr>\n",
       "    <tr>\n",
       "      <th>1</th>\n",
       "      <td>-0.873224</td>\n",
       "      <td>-1.290076</td>\n",
       "      <td>-0.407272</td>\n",
       "      <td>-0.121086</td>\n",
       "    </tr>\n",
       "    <tr>\n",
       "      <th>2</th>\n",
       "      <td>0.928123</td>\n",
       "      <td>-0.154160</td>\n",
       "      <td>0.385432</td>\n",
       "      <td>0.270114</td>\n",
       "    </tr>\n",
       "    <tr>\n",
       "      <th>3</th>\n",
       "      <td>-0.512955</td>\n",
       "      <td>1.890489</td>\n",
       "      <td>-1.369842</td>\n",
       "      <td>-1.033885</td>\n",
       "    </tr>\n",
       "    <tr>\n",
       "      <th>4</th>\n",
       "      <td>2.489290</td>\n",
       "      <td>1.663306</td>\n",
       "      <td>1.517868</td>\n",
       "      <td>1.052514</td>\n",
       "    </tr>\n",
       "  </tbody>\n",
       "</table>\n",
       "</div>"
      ],
      "text/plain": [
       "   SepalLengthCm  SepalWidthCm  PetalLengthCm  PetalWidthCm\n",
       "0      -0.032596      2.117672      -1.426464     -1.294685\n",
       "1      -0.873224     -1.290076      -0.407272     -0.121086\n",
       "2       0.928123     -0.154160       0.385432      0.270114\n",
       "3      -0.512955      1.890489      -1.369842     -1.033885\n",
       "4       2.489290      1.663306       1.517868      1.052514"
      ]
     },
     "execution_count": 22,
     "metadata": {},
     "output_type": "execute_result"
    }
   ],
   "source": [
    "from sklearn.preprocessing import StandardScaler\n",
    "scaler = StandardScaler()\n",
    "data_norm = scaler.fit_transform(x)\n",
    "names = ['SepalLengthCm','SepalWidthCm' ,'PetalLengthCm', 'PetalWidthCm']\n",
    "x = pd.DataFrame(data_norm, columns=names)\n",
    "x.head()"
   ]
  },
  {
   "cell_type": "markdown",
   "id": "d5fe6c1b",
   "metadata": {
    "papermill": {
     "duration": 0.086825,
     "end_time": "2022-05-21T16:58:37.329724",
     "exception": false,
     "start_time": "2022-05-21T16:58:37.242899",
     "status": "completed"
    },
    "tags": []
   },
   "source": [
    "# Clustering analysis & Cluster Validation\n",
    "<a id='ClusteringAnalysis&Validation'></a>\n"
   ]
  },
  {
   "cell_type": "markdown",
   "id": "6296acb2",
   "metadata": {
    "papermill": {
     "duration": 0.081975,
     "end_time": "2022-05-21T16:58:37.495584",
     "exception": false,
     "start_time": "2022-05-21T16:58:37.413609",
     "status": "completed"
    },
    "tags": []
   },
   "source": [
    "## • K-mean clustering\n"
   ]
  },
  {
   "cell_type": "code",
   "execution_count": 23,
   "id": "061dd8dd",
   "metadata": {
    "execution": {
     "iopub.execute_input": "2022-05-21T16:58:37.672948Z",
     "iopub.status.busy": "2022-05-21T16:58:37.672573Z",
     "iopub.status.idle": "2022-05-21T16:58:38.146917Z",
     "shell.execute_reply": "2022-05-21T16:58:38.146114Z"
    },
    "papermill": {
     "duration": 0.564132,
     "end_time": "2022-05-21T16:58:38.149140",
     "exception": false,
     "start_time": "2022-05-21T16:58:37.585008",
     "status": "completed"
    },
    "scrolled": true,
    "tags": []
   },
   "outputs": [
    {
     "data": {
      "text/plain": [
       "KMeans(n_clusters=3, n_init=12)"
      ]
     },
     "execution_count": 23,
     "metadata": {},
     "output_type": "execute_result"
    }
   ],
   "source": [
    "import matplotlib.pyplot as plt \n",
    "from sklearn.cluster import KMeans \n",
    "%matplotlib inline\n",
    "\n",
    "k_means = KMeans(init = \"k-means++\", n_clusters = 3, n_init = 12)\n",
    "k_means.fit(x)"
   ]
  },
  {
   "cell_type": "code",
   "execution_count": 24,
   "id": "68470cda",
   "metadata": {
    "execution": {
     "iopub.execute_input": "2022-05-21T16:58:38.325217Z",
     "iopub.status.busy": "2022-05-21T16:58:38.324733Z",
     "iopub.status.idle": "2022-05-21T16:58:38.328316Z",
     "shell.execute_reply": "2022-05-21T16:58:38.327538Z"
    },
    "papermill": {
     "duration": 0.093063,
     "end_time": "2022-05-21T16:58:38.330458",
     "exception": false,
     "start_time": "2022-05-21T16:58:38.237395",
     "status": "completed"
    },
    "tags": []
   },
   "outputs": [],
   "source": [
    "k_means_labels = k_means.labels_"
   ]
  },
  {
   "cell_type": "code",
   "execution_count": 25,
   "id": "28de57d3",
   "metadata": {
    "execution": {
     "iopub.execute_input": "2022-05-21T16:58:38.501107Z",
     "iopub.status.busy": "2022-05-21T16:58:38.500810Z",
     "iopub.status.idle": "2022-05-21T16:58:38.568994Z",
     "shell.execute_reply": "2022-05-21T16:58:38.567686Z"
    },
    "papermill": {
     "duration": 0.155415,
     "end_time": "2022-05-21T16:58:38.571623",
     "exception": false,
     "start_time": "2022-05-21T16:58:38.416208",
     "status": "completed"
    },
    "tags": []
   },
   "outputs": [],
   "source": [
    "y_kmeans = k_means.predict(x)"
   ]
  },
  {
   "cell_type": "code",
   "execution_count": 26,
   "id": "24f0a615",
   "metadata": {
    "execution": {
     "iopub.execute_input": "2022-05-21T16:58:38.739044Z",
     "iopub.status.busy": "2022-05-21T16:58:38.738716Z",
     "iopub.status.idle": "2022-05-21T16:58:38.745892Z",
     "shell.execute_reply": "2022-05-21T16:58:38.744966Z"
    },
    "papermill": {
     "duration": 0.093556,
     "end_time": "2022-05-21T16:58:38.748054",
     "exception": false,
     "start_time": "2022-05-21T16:58:38.654498",
     "status": "completed"
    },
    "tags": []
   },
   "outputs": [
    {
     "data": {
      "text/plain": [
       "array([[-0.08880806, -0.90338137,  0.3504956 ,  0.30063332],\n",
       "       [ 1.14161569,  0.05787763,  0.99820575,  1.0003539 ],\n",
       "       [-0.98330682,  0.83030064, -1.27901151, -1.23220191]])"
      ]
     },
     "execution_count": 26,
     "metadata": {},
     "output_type": "execute_result"
    }
   ],
   "source": [
    "k_means_cluster_centers = k_means.cluster_centers_\n",
    "k_means_cluster_centers"
   ]
  },
  {
   "cell_type": "markdown",
   "id": "2473425b",
   "metadata": {
    "papermill": {
     "duration": 0.081728,
     "end_time": "2022-05-21T16:58:38.913672",
     "exception": false,
     "start_time": "2022-05-21T16:58:38.831944",
     "status": "completed"
    },
    "tags": []
   },
   "source": [
    "####  Finding the best k using the ElbowVisualizer"
   ]
  },
  {
   "cell_type": "code",
   "execution_count": 27,
   "id": "292cf268",
   "metadata": {
    "execution": {
     "iopub.execute_input": "2022-05-21T16:58:39.086892Z",
     "iopub.status.busy": "2022-05-21T16:58:39.086604Z",
     "iopub.status.idle": "2022-05-21T16:58:40.395597Z",
     "shell.execute_reply": "2022-05-21T16:58:40.394602Z"
    },
    "papermill": {
     "duration": 1.398784,
     "end_time": "2022-05-21T16:58:40.398143",
     "exception": false,
     "start_time": "2022-05-21T16:58:38.999359",
     "status": "completed"
    },
    "tags": []
   },
   "outputs": [
    {
     "data": {
      "image/png": "[encoded data removed]",
      "text/plain": [
       "<Figure size 576x396 with 2 Axes>"
      ]
     },
     "metadata": {},
     "output_type": "display_data"
    },
    {
     "data": {
      "text/plain": [
       "<AxesSubplot:title={'center':'Distortion Score Elbow for KMeans Clustering'}, xlabel='k', ylabel='distortion score'>"
      ]
     },
     "execution_count": 27,
     "metadata": {},
     "output_type": "execute_result"
    }
   ],
   "source": [
    "from yellowbrick.cluster import KElbowVisualizer\n",
    "model = KElbowVisualizer(k_means, k=7)\n",
    "model.fit(x)\n",
    "model.show()"
   ]
  },
  {
   "cell_type": "markdown",
   "id": "90ff0e30",
   "metadata": {
    "papermill": {
     "duration": 0.089116,
     "end_time": "2022-05-21T16:58:40.575413",
     "exception": false,
     "start_time": "2022-05-21T16:58:40.486297",
     "status": "completed"
    },
    "tags": []
   },
   "source": [
    "#### Display the confusion_matrix of K-means  model and the accuracy represented with \n",
    "####    F-meaures, Normalized mutual information, and Rand Statistic."
   ]
  },
  {
   "cell_type": "code",
   "execution_count": 28,
   "id": "755f11a5",
   "metadata": {
    "execution": {
     "iopub.execute_input": "2022-05-21T16:58:40.754011Z",
     "iopub.status.busy": "2022-05-21T16:58:40.753387Z",
     "iopub.status.idle": "2022-05-21T16:58:40.999611Z",
     "shell.execute_reply": "2022-05-21T16:58:40.998337Z"
    },
    "papermill": {
     "duration": 0.338725,
     "end_time": "2022-05-21T16:58:41.002164",
     "exception": false,
     "start_time": "2022-05-21T16:58:40.663439",
     "status": "completed"
    },
    "tags": []
   },
   "outputs": [
    {
     "data": {
      "text/plain": [
       "Text(124.71000000000001, 0.5, 'predicted label')"
      ]
     },
     "execution_count": 28,
     "metadata": {},
     "output_type": "execute_result"
    },
    {
     "data": {
      "image/png": "[encoded data removed]",
      "text/plain": [
       "<Figure size 576x396 with 1 Axes>"
      ]
     },
     "metadata": {},
     "output_type": "display_data"
    }
   ],
   "source": [
    "# confusion_matrix for K_means\n",
    "from sklearn.metrics import confusion_matrix\n",
    "import seaborn as sns\n",
    "\n",
    "mat =confusion_matrix(Y,k_means_labels)\n",
    "sns.heatmap(mat.T, square=True, annot=True, fmt='d', cbar=False)\n",
    "plt.xlabel('true label')\n",
    "plt.ylabel('predicted label')"
   ]
  },
  {
   "cell_type": "code",
   "execution_count": 29,
   "id": "847a1ae1",
   "metadata": {
    "execution": {
     "iopub.execute_input": "2022-05-21T16:58:41.176926Z",
     "iopub.status.busy": "2022-05-21T16:58:41.176635Z",
     "iopub.status.idle": "2022-05-21T16:58:41.194768Z",
     "shell.execute_reply": "2022-05-21T16:58:41.192894Z"
    },
    "papermill": {
     "duration": 0.10889,
     "end_time": "2022-05-21T16:58:41.197349",
     "exception": false,
     "start_time": "2022-05-21T16:58:41.088459",
     "status": "completed"
    },
    "scrolled": true,
    "tags": []
   },
   "outputs": [
    {
     "name": "stdout",
     "output_type": "stream",
     "text": [
      "F1_Score:  0.08757763975155278\n",
      "Normalized Mutual Information:  0.656616876434131\n",
      "Rand Score:  0.6199777060556504\n"
     ]
    }
   ],
   "source": [
    "#K_means validations\n",
    "F1= f1_score(Y,y_kmeans,average='weighted')\n",
    "print(\"F1_Score: \", F1)\n",
    "NMI=(normalized_mutual_info_score(Y,y_kmeans))\n",
    "print(\"Normalized Mutual Information: \",NMI)\n",
    "ARS=(adjusted_rand_score(Y,y_kmeans))\n",
    "print(\"Rand Score: \",ARS)"
   ]
  },
  {
   "cell_type": "markdown",
   "id": "c6a33aaf",
   "metadata": {
    "papermill": {
     "duration": 0.091228,
     "end_time": "2022-05-21T16:58:41.378111",
     "exception": false,
     "start_time": "2022-05-21T16:58:41.286883",
     "status": "completed"
    },
    "tags": []
   },
   "source": [
    "#### Ploting of K-means Clustring"
   ]
  },
  {
   "cell_type": "code",
   "execution_count": 30,
   "id": "1c72168c",
   "metadata": {
    "execution": {
     "iopub.execute_input": "2022-05-21T16:58:41.554472Z",
     "iopub.status.busy": "2022-05-21T16:58:41.553853Z",
     "iopub.status.idle": "2022-05-21T16:58:41.842772Z",
     "shell.execute_reply": "2022-05-21T16:58:41.842105Z"
    },
    "papermill": {
     "duration": 0.380463,
     "end_time": "2022-05-21T16:58:41.844928",
     "exception": false,
     "start_time": "2022-05-21T16:58:41.464465",
     "status": "completed"
    },
    "tags": []
   },
   "outputs": [
    {
     "data": {
      "image/png": "[encoded data removed]",
      "text/plain": [
       "<Figure size 576x396 with 1 Axes>"
      ]
     },
     "metadata": {},
     "output_type": "display_data"
    }
   ],
   "source": [
    "plt.scatter(x.iloc[:, 0], x.iloc[:,1], c = k_means_labels, cmap= \"plasma\") # plotting the clusters\n",
    "plt.scatter(k_means_cluster_centers[:,0] , k_means_cluster_centers[:,1] , s = 80, color = 'k')\n",
    "plt.show()"
   ]
  },
  {
   "cell_type": "markdown",
   "id": "e581c9c9",
   "metadata": {
    "papermill": {
     "duration": 0.088698,
     "end_time": "2022-05-21T16:58:42.023667",
     "exception": false,
     "start_time": "2022-05-21T16:58:41.934969",
     "status": "completed"
    },
    "tags": []
   },
   "source": [
    "## • Hierarchical clustering, using Agglomerative model with the best k\n"
   ]
  },
  {
   "cell_type": "code",
   "execution_count": 31,
   "id": "f4a6388a",
   "metadata": {
    "execution": {
     "iopub.execute_input": "2022-05-21T16:58:42.207870Z",
     "iopub.status.busy": "2022-05-21T16:58:42.207210Z",
     "iopub.status.idle": "2022-05-21T16:58:42.319093Z",
     "shell.execute_reply": "2022-05-21T16:58:42.318051Z"
    },
    "papermill": {
     "duration": 0.208336,
     "end_time": "2022-05-21T16:58:42.321553",
     "exception": false,
     "start_time": "2022-05-21T16:58:42.113217",
     "status": "completed"
    },
    "tags": []
   },
   "outputs": [],
   "source": [
    "from scipy import ndimage \n",
    "from scipy.cluster import hierarchy \n",
    "from scipy.spatial import distance_matrix \n",
    "from matplotlib import pyplot as plt \n",
    "from sklearn import manifold, datasets \n",
    "from sklearn.cluster import AgglomerativeClustering \n",
    "from sklearn.datasets import make_blobs \n",
    "%matplotlib inline"
   ]
  },
  {
   "cell_type": "code",
   "execution_count": 32,
   "id": "1dd8f75e",
   "metadata": {
    "execution": {
     "iopub.execute_input": "2022-05-21T16:58:42.512749Z",
     "iopub.status.busy": "2022-05-21T16:58:42.512202Z",
     "iopub.status.idle": "2022-05-21T16:58:42.521212Z",
     "shell.execute_reply": "2022-05-21T16:58:42.520170Z"
    },
    "papermill": {
     "duration": 0.104502,
     "end_time": "2022-05-21T16:58:42.523567",
     "exception": false,
     "start_time": "2022-05-21T16:58:42.419065",
     "status": "completed"
    },
    "tags": []
   },
   "outputs": [
    {
     "data": {
      "text/plain": [
       "AgglomerativeClustering(linkage='average', n_clusters=3)"
      ]
     },
     "execution_count": 32,
     "metadata": {},
     "output_type": "execute_result"
    }
   ],
   "source": [
    "agglom = AgglomerativeClustering(n_clusters = 3, linkage = 'average')\n",
    "agglom.fit(x)"
   ]
  },
  {
   "cell_type": "markdown",
   "id": "431e7123",
   "metadata": {
    "papermill": {
     "duration": 0.091465,
     "end_time": "2022-05-21T16:58:42.707615",
     "exception": false,
     "start_time": "2022-05-21T16:58:42.616150",
     "status": "completed"
    },
    "tags": []
   },
   "source": [
    "#### •Display of Associated Dendrogram for the Agglomerative Hierarchical Clustering using the four-linkage type\n"
   ]
  },
  {
   "cell_type": "code",
   "execution_count": 33,
   "id": "405bf1e7",
   "metadata": {
    "execution": {
     "iopub.execute_input": "2022-05-21T16:58:42.897375Z",
     "iopub.status.busy": "2022-05-21T16:58:42.896782Z",
     "iopub.status.idle": "2022-05-21T16:58:42.905122Z",
     "shell.execute_reply": "2022-05-21T16:58:42.904447Z"
    },
    "papermill": {
     "duration": 0.107707,
     "end_time": "2022-05-21T16:58:42.907607",
     "exception": false,
     "start_time": "2022-05-21T16:58:42.799900",
     "status": "completed"
    },
    "tags": []
   },
   "outputs": [
    {
     "name": "stdout",
     "output_type": "stream",
     "text": [
      "[[0.         3.83868397 3.43740721 ... 3.42868257 4.30267673 1.47273068]\n",
      " [3.83868397 0.         2.30577    ... 2.9689664  1.84803343 2.49590428]\n",
      " [3.43740721 2.30577    0.         ... 0.68267717 1.40345605 2.77277648]\n",
      " ...\n",
      " [3.42868257 2.9689664  0.68267717 ... 0.         1.96046186 3.03848448]\n",
      " [4.30267673 1.84803343 1.40345605 ... 1.96046186 0.         3.37344133]\n",
      " [1.47273068 2.49590428 2.77277648 ... 3.03848448 3.37344133 0.        ]]\n"
     ]
    }
   ],
   "source": [
    "dist_matrix = distance_matrix(x,x) \n",
    "print(dist_matrix)"
   ]
  },
  {
   "cell_type": "code",
   "execution_count": 34,
   "id": "c3587578",
   "metadata": {
    "execution": {
     "iopub.execute_input": "2022-05-21T16:58:43.097635Z",
     "iopub.status.busy": "2022-05-21T16:58:43.097312Z",
     "iopub.status.idle": "2022-05-21T16:58:45.997548Z",
     "shell.execute_reply": "2022-05-21T16:58:45.996658Z"
    },
    "papermill": {
     "duration": 2.998213,
     "end_time": "2022-05-21T16:58:46.000166",
     "exception": false,
     "start_time": "2022-05-21T16:58:43.001953",
     "status": "completed"
    },
    "tags": []
   },
   "outputs": [
    {
     "name": "stderr",
     "output_type": "stream",
     "text": [
      "/opt/conda/lib/python3.7/site-packages/ipykernel_launcher.py:1: ClusterWarning: scipy.cluster: The symmetric non-negative hollow observation matrix looks suspiciously like an uncondensed distance matrix\n",
      "  \"\"\"Entry point for launching an IPython kernel.\n"
     ]
    },
    {
     "data": {
      "image/png": "[encoded data removed]",
      "text/plain": [
       "<Figure size 432x288 with 1 Axes>"
      ]
     },
     "metadata": {
      "needs_background": "light"
     },
     "output_type": "display_data"
    }
   ],
   "source": [
    "Z = hierarchy.linkage(dist_matrix, 'complete')\n",
    "dendro = hierarchy.dendrogram(Z)"
   ]
  },
  {
   "cell_type": "code",
   "execution_count": 35,
   "id": "e1fcbcf7",
   "metadata": {
    "execution": {
     "iopub.execute_input": "2022-05-21T16:58:46.193444Z",
     "iopub.status.busy": "2022-05-21T16:58:46.193148Z",
     "iopub.status.idle": "2022-05-21T16:58:49.075770Z",
     "shell.execute_reply": "2022-05-21T16:58:49.074508Z"
    },
    "papermill": {
     "duration": 2.983741,
     "end_time": "2022-05-21T16:58:49.078573",
     "exception": false,
     "start_time": "2022-05-21T16:58:46.094832",
     "status": "completed"
    },
    "tags": []
   },
   "outputs": [
    {
     "name": "stderr",
     "output_type": "stream",
     "text": [
      "/opt/conda/lib/python3.7/site-packages/ipykernel_launcher.py:1: ClusterWarning: scipy.cluster: The symmetric non-negative hollow observation matrix looks suspiciously like an uncondensed distance matrix\n",
      "  \"\"\"Entry point for launching an IPython kernel.\n"
     ]
    },
    {
     "data": {
      "image/png": "[encoded data removed]",
      "text/plain": [
       "<Figure size 432x288 with 1 Axes>"
      ]
     },
     "metadata": {
      "needs_background": "light"
     },
     "output_type": "display_data"
    }
   ],
   "source": [
    "Z = hierarchy.linkage(dist_matrix, 'single')\n",
    "dendro = hierarchy.dendrogram(Z)"
   ]
  },
  {
   "cell_type": "code",
   "execution_count": 36,
   "id": "32a0c96f",
   "metadata": {
    "execution": {
     "iopub.execute_input": "2022-05-21T16:58:49.270752Z",
     "iopub.status.busy": "2022-05-21T16:58:49.270421Z",
     "iopub.status.idle": "2022-05-21T16:58:52.620309Z",
     "shell.execute_reply": "2022-05-21T16:58:52.619309Z"
    },
    "papermill": {
     "duration": 3.447772,
     "end_time": "2022-05-21T16:58:52.622532",
     "exception": false,
     "start_time": "2022-05-21T16:58:49.174760",
     "status": "completed"
    },
    "tags": []
   },
   "outputs": [
    {
     "name": "stderr",
     "output_type": "stream",
     "text": [
      "/opt/conda/lib/python3.7/site-packages/ipykernel_launcher.py:1: ClusterWarning: scipy.cluster: The symmetric non-negative hollow observation matrix looks suspiciously like an uncondensed distance matrix\n",
      "  \"\"\"Entry point for launching an IPython kernel.\n"
     ]
    },
    {
     "data": {
      "image/png": "[encoded data removed]",
      "text/plain": [
       "<Figure size 432x288 with 1 Axes>"
      ]
     },
     "metadata": {
      "needs_background": "light"
     },
     "output_type": "display_data"
    }
   ],
   "source": [
    "Z = hierarchy.linkage(dist_matrix, 'average')\n",
    "dendro = hierarchy.dendrogram(Z)"
   ]
  },
  {
   "cell_type": "code",
   "execution_count": 37,
   "id": "11ef407f",
   "metadata": {
    "execution": {
     "iopub.execute_input": "2022-05-21T16:58:52.812082Z",
     "iopub.status.busy": "2022-05-21T16:58:52.811721Z",
     "iopub.status.idle": "2022-05-21T16:58:55.669409Z",
     "shell.execute_reply": "2022-05-21T16:58:55.668393Z"
    },
    "papermill": {
     "duration": 2.956109,
     "end_time": "2022-05-21T16:58:55.671773",
     "exception": false,
     "start_time": "2022-05-21T16:58:52.715664",
     "status": "completed"
    },
    "tags": []
   },
   "outputs": [
    {
     "name": "stderr",
     "output_type": "stream",
     "text": [
      "/opt/conda/lib/python3.7/site-packages/ipykernel_launcher.py:1: ClusterWarning: scipy.cluster: The symmetric non-negative hollow observation matrix looks suspiciously like an uncondensed distance matrix\n",
      "  \"\"\"Entry point for launching an IPython kernel.\n"
     ]
    },
    {
     "data": {
      "image/png": "[encoded data removed]",
      "text/plain": [
       "<Figure size 432x288 with 1 Axes>"
      ]
     },
     "metadata": {
      "needs_background": "light"
     },
     "output_type": "display_data"
    }
   ],
   "source": [
    "Z = hierarchy.linkage(dist_matrix, 'centroid')\n",
    "dendro = hierarchy.dendrogram(Z)"
   ]
  },
  {
   "cell_type": "markdown",
   "id": "b2651fbc",
   "metadata": {
    "papermill": {
     "duration": 0.095602,
     "end_time": "2022-05-21T16:58:55.864883",
     "exception": false,
     "start_time": "2022-05-21T16:58:55.769281",
     "status": "completed"
    },
    "tags": []
   },
   "source": [
    "#### Display the confusion_matrix of Agglomerative  model and the accuracy represented with \n",
    "#### F-meaures, Normalized mutual information, and Rand Statistic."
   ]
  },
  {
   "cell_type": "code",
   "execution_count": 38,
   "id": "70dce82d",
   "metadata": {
    "execution": {
     "iopub.execute_input": "2022-05-21T16:58:56.057539Z",
     "iopub.status.busy": "2022-05-21T16:58:56.056952Z",
     "iopub.status.idle": "2022-05-21T16:58:56.289303Z",
     "shell.execute_reply": "2022-05-21T16:58:56.288265Z"
    },
    "papermill": {
     "duration": 0.332042,
     "end_time": "2022-05-21T16:58:56.291843",
     "exception": false,
     "start_time": "2022-05-21T16:58:55.959801",
     "status": "completed"
    },
    "tags": []
   },
   "outputs": [
    {
     "data": {
      "text/plain": [
       "Text(91.68, 0.5, 'predicted label')"
      ]
     },
     "execution_count": 38,
     "metadata": {},
     "output_type": "execute_result"
    },
    {
     "data": {
      "image/png": "[encoded data removed]",
      "text/plain": [
       "<Figure size 432x288 with 1 Axes>"
      ]
     },
     "metadata": {
      "needs_background": "light"
     },
     "output_type": "display_data"
    }
   ],
   "source": [
    "# confusion_matrix for hierarchical\n",
    "from sklearn.metrics import confusion_matrix\n",
    "import seaborn as sns\n",
    "\n",
    "mat =confusion_matrix(Y,agglom.labels_)\n",
    "sns.heatmap(mat.T, square=True, annot=True, fmt='d', cbar=False)\n",
    "plt.xlabel('true label')\n",
    "plt.ylabel('predicted label')"
   ]
  },
  {
   "cell_type": "code",
   "execution_count": 39,
   "id": "cead1101",
   "metadata": {
    "execution": {
     "iopub.execute_input": "2022-05-21T16:58:56.489580Z",
     "iopub.status.busy": "2022-05-21T16:58:56.489194Z",
     "iopub.status.idle": "2022-05-21T16:58:56.503591Z",
     "shell.execute_reply": "2022-05-21T16:58:56.502452Z"
    },
    "papermill": {
     "duration": 0.114861,
     "end_time": "2022-05-21T16:58:56.506960",
     "exception": false,
     "start_time": "2022-05-21T16:58:56.392099",
     "status": "completed"
    },
    "tags": []
   },
   "outputs": [
    {
     "name": "stdout",
     "output_type": "stream",
     "text": [
      "F1_Score:  0.6150735294117647\n",
      "Normalized Mutual Information:  0.7176026207516613\n",
      "Rand Score:  0.5738052750029129\n"
     ]
    }
   ],
   "source": [
    "#hierarchical validations\n",
    "F1= f1_score(Y,agglom.labels_,average='weighted')\n",
    "print(\"F1_Score: \", F1)\n",
    "NMI=(normalized_mutual_info_score(Y,agglom.labels_))\n",
    "print(\"Normalized Mutual Information: \",NMI)\n",
    "ARS=(adjusted_rand_score(Y,agglom.labels_))\n",
    "print(\"Rand Score: \",ARS)"
   ]
  },
  {
   "cell_type": "markdown",
   "id": "f8828546",
   "metadata": {
    "papermill": {
     "duration": 0.09664,
     "end_time": "2022-05-21T16:58:56.700803",
     "exception": false,
     "start_time": "2022-05-21T16:58:56.604163",
     "status": "completed"
    },
    "tags": []
   },
   "source": [
    "#### Ploting of Hierarchical Clustring"
   ]
  },
  {
   "cell_type": "code",
   "execution_count": 40,
   "id": "faaa164c",
   "metadata": {
    "execution": {
     "iopub.execute_input": "2022-05-21T16:58:56.918242Z",
     "iopub.status.busy": "2022-05-21T16:58:56.917646Z",
     "iopub.status.idle": "2022-05-21T16:58:57.172757Z",
     "shell.execute_reply": "2022-05-21T16:58:57.171797Z"
    },
    "papermill": {
     "duration": 0.36574,
     "end_time": "2022-05-21T16:58:57.174852",
     "exception": false,
     "start_time": "2022-05-21T16:58:56.809112",
     "status": "completed"
    },
    "tags": []
   },
   "outputs": [
    {
     "data": {
      "image/png": "[encoded data removed]",
      "text/plain": [
       "<Figure size 432x288 with 1 Axes>"
      ]
     },
     "metadata": {
      "needs_background": "light"
     },
     "output_type": "display_data"
    }
   ],
   "source": [
    "plt.scatter(x.iloc[:, 0], x.iloc[:,1], c = agglom.labels_, cmap= \"plasma\") \n",
    "plt.show()"
   ]
  },
  {
   "cell_type": "markdown",
   "id": "15369385",
   "metadata": {
    "papermill": {
     "duration": 0.096772,
     "end_time": "2022-05-21T16:58:57.371110",
     "exception": false,
     "start_time": "2022-05-21T16:58:57.274338",
     "status": "completed"
    },
    "tags": []
   },
   "source": [
    "## • Density-Based clustering (DBSCN algorithm)\n"
   ]
  },
  {
   "cell_type": "code",
   "execution_count": 41,
   "id": "16b9c80b",
   "metadata": {
    "execution": {
     "iopub.execute_input": "2022-05-21T16:58:57.572105Z",
     "iopub.status.busy": "2022-05-21T16:58:57.571803Z",
     "iopub.status.idle": "2022-05-21T16:58:57.579643Z",
     "shell.execute_reply": "2022-05-21T16:58:57.578621Z"
    },
    "papermill": {
     "duration": 0.108809,
     "end_time": "2022-05-21T16:58:57.581669",
     "exception": false,
     "start_time": "2022-05-21T16:58:57.472860",
     "status": "completed"
    },
    "tags": []
   },
   "outputs": [],
   "source": [
    "from sklearn.cluster import DBSCAN\n",
    "db = DBSCAN(eps=0.8, min_samples=2).fit(x)"
   ]
  },
  {
   "cell_type": "code",
   "execution_count": 42,
   "id": "ab6440ea",
   "metadata": {
    "execution": {
     "iopub.execute_input": "2022-05-21T16:58:57.778299Z",
     "iopub.status.busy": "2022-05-21T16:58:57.777742Z",
     "iopub.status.idle": "2022-05-21T16:58:57.782647Z",
     "shell.execute_reply": "2022-05-21T16:58:57.781856Z"
    },
    "papermill": {
     "duration": 0.108278,
     "end_time": "2022-05-21T16:58:57.785010",
     "exception": false,
     "start_time": "2022-05-21T16:58:57.676732",
     "status": "completed"
    },
    "tags": []
   },
   "outputs": [],
   "source": [
    "# Firts, create an array of booleans using the labels from db.\n",
    "core_samples_mask = np.zeros_like(db.labels_, dtype=bool)\n",
    "core_samples_mask[db.core_sample_indices_] = True"
   ]
  },
  {
   "cell_type": "code",
   "execution_count": 43,
   "id": "4cf2dfd4",
   "metadata": {
    "execution": {
     "iopub.execute_input": "2022-05-21T16:58:57.991036Z",
     "iopub.status.busy": "2022-05-21T16:58:57.990745Z",
     "iopub.status.idle": "2022-05-21T16:58:57.998100Z",
     "shell.execute_reply": "2022-05-21T16:58:57.996908Z"
    },
    "papermill": {
     "duration": 0.111578,
     "end_time": "2022-05-21T16:58:58.000305",
     "exception": false,
     "start_time": "2022-05-21T16:58:57.888727",
     "status": "completed"
    },
    "tags": []
   },
   "outputs": [
    {
     "data": {
      "text/plain": [
       "3"
      ]
     },
     "execution_count": 43,
     "metadata": {},
     "output_type": "execute_result"
    }
   ],
   "source": [
    "# Number of clusters in labels, ignoring noise if present.\n",
    "n_clusters_ = len(set(db.labels_)) - (1 if -1 in db.labels_ else 0)\n",
    "n_clusters_"
   ]
  },
  {
   "cell_type": "code",
   "execution_count": 44,
   "id": "5bf526b1",
   "metadata": {
    "execution": {
     "iopub.execute_input": "2022-05-21T16:58:58.203285Z",
     "iopub.status.busy": "2022-05-21T16:58:58.202979Z",
     "iopub.status.idle": "2022-05-21T16:58:58.209822Z",
     "shell.execute_reply": "2022-05-21T16:58:58.208552Z"
    },
    "papermill": {
     "duration": 0.109291,
     "end_time": "2022-05-21T16:58:58.212101",
     "exception": false,
     "start_time": "2022-05-21T16:58:58.102810",
     "status": "completed"
    },
    "tags": []
   },
   "outputs": [
    {
     "data": {
      "text/plain": [
       "{-1, 0, 1, 2}"
      ]
     },
     "execution_count": 44,
     "metadata": {},
     "output_type": "execute_result"
    }
   ],
   "source": [
    "# Remove repetition in labels by turning it into a set.\n",
    "unique_labels = set(db.labels_)\n",
    "unique_labels"
   ]
  },
  {
   "cell_type": "markdown",
   "id": "d02e066e",
   "metadata": {
    "papermill": {
     "duration": 0.100434,
     "end_time": "2022-05-21T16:58:58.414083",
     "exception": false,
     "start_time": "2022-05-21T16:58:58.313649",
     "status": "completed"
    },
    "tags": []
   },
   "source": [
    "#### Display the confusion_matrix of DBSCAN model and the accuracy represented with \n",
    "#### F-meaures, Normalized mutual information, and Rand Statistic."
   ]
  },
  {
   "cell_type": "code",
   "execution_count": 45,
   "id": "a52ccb57",
   "metadata": {
    "execution": {
     "iopub.execute_input": "2022-05-21T16:58:58.618622Z",
     "iopub.status.busy": "2022-05-21T16:58:58.618320Z",
     "iopub.status.idle": "2022-05-21T16:58:58.883403Z",
     "shell.execute_reply": "2022-05-21T16:58:58.882345Z"
    },
    "papermill": {
     "duration": 0.372848,
     "end_time": "2022-05-21T16:58:58.886124",
     "exception": false,
     "start_time": "2022-05-21T16:58:58.513276",
     "status": "completed"
    },
    "tags": []
   },
   "outputs": [
    {
     "data": {
      "text/plain": [
       "Text(91.68, 0.5, 'predicted label')"
      ]
     },
     "execution_count": 45,
     "metadata": {},
     "output_type": "execute_result"
    },
    {
     "data": {
      "image/png": "[encoded data removed]",
      "text/plain": [
       "<Figure size 432x288 with 1 Axes>"
      ]
     },
     "metadata": {
      "needs_background": "light"
     },
     "output_type": "display_data"
    }
   ],
   "source": [
    "# confusion_matrix for DBCAN\n",
    "from sklearn.metrics import confusion_matrix\n",
    "import seaborn as sns\n",
    "\n",
    "mat =confusion_matrix(Y,db.labels_)\n",
    "sns.heatmap(mat.T, square=True, annot=True, fmt='d', cbar=False)\n",
    "plt.xlabel('true label')\n",
    "plt.ylabel('predicted label')"
   ]
  },
  {
   "cell_type": "code",
   "execution_count": 46,
   "id": "86485f4c",
   "metadata": {
    "execution": {
     "iopub.execute_input": "2022-05-21T16:58:59.092627Z",
     "iopub.status.busy": "2022-05-21T16:58:59.092092Z",
     "iopub.status.idle": "2022-05-21T16:58:59.103654Z",
     "shell.execute_reply": "2022-05-21T16:58:59.103016Z"
    },
    "papermill": {
     "duration": 0.116263,
     "end_time": "2022-05-21T16:58:59.106810",
     "exception": false,
     "start_time": "2022-05-21T16:58:58.990547",
     "status": "completed"
    },
    "tags": []
   },
   "outputs": [
    {
     "name": "stdout",
     "output_type": "stream",
     "text": [
      "F1_Score:  0.5986415585271063\n",
      "Normalized Mutual Information:  0.6923093328924673\n",
      "Rand Score:  0.5621972847295409\n"
     ]
    }
   ],
   "source": [
    "#DBCAN validations\n",
    "\n",
    "F1= f1_score(Y,db.labels_,average='weighted')\n",
    "print(\"F1_Score: \", F1)\n",
    "NMI=(normalized_mutual_info_score(Y,db.labels_))\n",
    "print(\"Normalized Mutual Information: \",NMI)\n",
    "ARS=(adjusted_rand_score(Y,db.labels_))\n",
    "print(\"Rand Score: \",ARS)"
   ]
  },
  {
   "cell_type": "markdown",
   "id": "2477231d",
   "metadata": {
    "papermill": {
     "duration": 0.098275,
     "end_time": "2022-05-21T16:58:59.304694",
     "exception": false,
     "start_time": "2022-05-21T16:58:59.206419",
     "status": "completed"
    },
    "tags": []
   },
   "source": [
    "#### Ploting of DBSCAN clustring"
   ]
  },
  {
   "cell_type": "code",
   "execution_count": 47,
   "id": "17442c30",
   "metadata": {
    "execution": {
     "iopub.execute_input": "2022-05-21T16:58:59.514185Z",
     "iopub.status.busy": "2022-05-21T16:58:59.513683Z",
     "iopub.status.idle": "2022-05-21T16:58:59.853813Z",
     "shell.execute_reply": "2022-05-21T16:58:59.853084Z"
    },
    "papermill": {
     "duration": 0.45125,
     "end_time": "2022-05-21T16:58:59.855924",
     "exception": false,
     "start_time": "2022-05-21T16:58:59.404674",
     "status": "completed"
    },
    "tags": []
   },
   "outputs": [
    {
     "data": {
      "image/png": "[encoded data removed]",
      "text/plain": [
       "<Figure size 432x288 with 1 Axes>"
      ]
     },
     "metadata": {
      "needs_background": "light"
     },
     "output_type": "display_data"
    }
   ],
   "source": [
    "colors = plt.cm.Spectral(np.linspace(0, 1, len(unique_labels)))\n",
    "# Plot the points with colors\n",
    "for k, col in zip(unique_labels, colors):\n",
    "    if k == -1:\n",
    "        # Black used for noise.\n",
    "        col = 'k'\n",
    "    labelsdb = db.labels_\n",
    "    class_member_mask = (labelsdb == k)\n",
    "\n",
    "    # Plot the datapoints that are clustered\n",
    "    xy = x[class_member_mask & core_samples_mask]\n",
    "    plt.scatter(xy.iloc[:, 0], xy.iloc[:, 1],s=150, c=[col], marker=u'o', alpha=0.8)\n",
    "\n",
    "    # Plot the outliers\n",
    "    xy = x[class_member_mask & ~core_samples_mask]\n",
    "    plt.scatter(xy.iloc[:, 0], xy.iloc[:, 1],s=150, c=[col] , marker=u'o', alpha=0.5)"
   ]
  },
  {
   "cell_type": "markdown",
   "id": "c1656aa4",
   "metadata": {
    "papermill": {
     "duration": 0.107403,
     "end_time": "2022-05-21T16:59:00.066527",
     "exception": false,
     "start_time": "2022-05-21T16:58:59.959124",
     "status": "completed"
    },
    "tags": []
   },
   "source": [
    "## • Gaussian Mixture Models (GMM)"
   ]
  },
  {
   "cell_type": "code",
   "execution_count": 48,
   "id": "0afd3352",
   "metadata": {
    "execution": {
     "iopub.execute_input": "2022-05-21T16:59:00.270662Z",
     "iopub.status.busy": "2022-05-21T16:59:00.270217Z",
     "iopub.status.idle": "2022-05-21T16:59:00.387328Z",
     "shell.execute_reply": "2022-05-21T16:59:00.385889Z"
    },
    "papermill": {
     "duration": 0.220728,
     "end_time": "2022-05-21T16:59:00.389819",
     "exception": false,
     "start_time": "2022-05-21T16:59:00.169091",
     "status": "completed"
    },
    "tags": []
   },
   "outputs": [],
   "source": [
    "import numpy as np\n",
    "from sklearn.mixture import GaussianMixture\n",
    "GMM = GaussianMixture(n_components=3,covariance_type='full', random_state=0).fit(x)\n",
    "labels = GMM.predict(x)"
   ]
  },
  {
   "cell_type": "markdown",
   "id": "4896cf59",
   "metadata": {
    "papermill": {
     "duration": 0.104275,
     "end_time": "2022-05-21T16:59:00.599942",
     "exception": false,
     "start_time": "2022-05-21T16:59:00.495667",
     "status": "completed"
    },
    "tags": []
   },
   "source": [
    "#### Display the confusion_matrix of Gaussian Mixture model and the accuracy represented with \n",
    "#### F-meaures, Normalized mutual information, and Rand Statistic."
   ]
  },
  {
   "cell_type": "code",
   "execution_count": 49,
   "id": "16d90e58",
   "metadata": {
    "execution": {
     "iopub.execute_input": "2022-05-21T16:59:00.814579Z",
     "iopub.status.busy": "2022-05-21T16:59:00.814286Z",
     "iopub.status.idle": "2022-05-21T16:59:01.051451Z",
     "shell.execute_reply": "2022-05-21T16:59:01.050698Z"
    },
    "papermill": {
     "duration": 0.347306,
     "end_time": "2022-05-21T16:59:01.053810",
     "exception": false,
     "start_time": "2022-05-21T16:59:00.706504",
     "status": "completed"
    },
    "tags": []
   },
   "outputs": [
    {
     "data": {
      "text/plain": [
       "Text(91.68, 0.5, 'predicted label')"
      ]
     },
     "execution_count": 49,
     "metadata": {},
     "output_type": "execute_result"
    },
    {
     "data": {
      "image/png": "[encoded data removed]",
      "text/plain": [
       "<Figure size 432x288 with 1 Axes>"
      ]
     },
     "metadata": {
      "needs_background": "light"
     },
     "output_type": "display_data"
    }
   ],
   "source": [
    "# confusion_matrix for Gaussian\n",
    "from sklearn.metrics import confusion_matrix\n",
    "import seaborn as sns\n",
    "\n",
    "mat =confusion_matrix(Y,labels)\n",
    "sns.heatmap(mat.T, square=True, annot=True, fmt='d', cbar=False)\n",
    "plt.xlabel('true label')\n",
    "plt.ylabel('predicted label')"
   ]
  },
  {
   "cell_type": "code",
   "execution_count": 50,
   "id": "deff0f95",
   "metadata": {
    "execution": {
     "iopub.execute_input": "2022-05-21T16:59:01.273528Z",
     "iopub.status.busy": "2022-05-21T16:59:01.272516Z",
     "iopub.status.idle": "2022-05-21T16:59:01.284825Z",
     "shell.execute_reply": "2022-05-21T16:59:01.282691Z"
    },
    "papermill": {
     "duration": 0.127065,
     "end_time": "2022-05-21T16:59:01.287204",
     "exception": false,
     "start_time": "2022-05-21T16:59:01.160139",
     "status": "completed"
    },
    "tags": []
   },
   "outputs": [
    {
     "name": "stdout",
     "output_type": "stream",
     "text": [
      "f1_Score:  0.3708333333333333\n",
      "Normalized Mutual Information:  0.9104098852942716\n",
      "Rand Score:  0.9180866619276756\n"
     ]
    }
   ],
   "source": [
    "#Gaussian validations\n",
    "print(\"f1_Score: \", f1_score(Y,labels,average='weighted'))\n",
    "print(\"Normalized Mutual Information: \",normalized_mutual_info_score(Y,labels))\n",
    "print(\"Rand Score: \",adjusted_rand_score(Y,labels))"
   ]
  },
  {
   "cell_type": "markdown",
   "id": "e0a7d6f7",
   "metadata": {
    "papermill": {
     "duration": 0.100676,
     "end_time": "2022-05-21T16:59:01.489624",
     "exception": false,
     "start_time": "2022-05-21T16:59:01.388948",
     "status": "completed"
    },
    "tags": []
   },
   "source": [
    "#### Ploting of Gaussian Mixture clustring"
   ]
  },
  {
   "cell_type": "code",
   "execution_count": 51,
   "id": "b6be58eb",
   "metadata": {
    "execution": {
     "iopub.execute_input": "2022-05-21T16:59:01.699091Z",
     "iopub.status.busy": "2022-05-21T16:59:01.698172Z",
     "iopub.status.idle": "2022-05-21T16:59:01.953880Z",
     "shell.execute_reply": "2022-05-21T16:59:01.953099Z"
    },
    "papermill": {
     "duration": 0.364438,
     "end_time": "2022-05-21T16:59:01.956050",
     "exception": false,
     "start_time": "2022-05-21T16:59:01.591612",
     "status": "completed"
    },
    "tags": []
   },
   "outputs": [
    {
     "data": {
      "image/png": "[encoded data removed]",
      "text/plain": [
       "<Figure size 432x288 with 1 Axes>"
      ]
     },
     "metadata": {
      "needs_background": "light"
     },
     "output_type": "display_data"
    }
   ],
   "source": [
    "plt.scatter(x.iloc[:, 0], x.iloc[:,1], c = labels, cmap= \"plasma\") \n",
    "plt.show()"
   ]
  }
 ],
 "metadata": {
  "kernelspec": {
   "display_name": "Python 3",
   "language": "python",
   "name": "python3"
  },
  "language_info": {
   "codemirror_mode": {
    "name": "ipython",
    "version": 3
   },
   "file_extension": ".py",
   "mimetype": "text/x-python",
   "name": "python",
   "nbconvert_exporter": "python",
   "pygments_lexer": "ipython3",
   "version": "3.7.12"
  },
  "papermill": {
   "default_parameters": {},
   "duration": 47.599966,
   "end_time": "2022-05-21T16:59:02.988140",
   "environment_variables": {},
   "exception": null,
   "input_path": "__notebook__.ipynb",
   "output_path": "__notebook__.ipynb",
   "parameters": {},
   "start_time": "2022-05-21T16:58:15.388174",
   "version": "2.3.4"
  }
 },
 "nbformat": 4,
 "nbformat_minor": 5
}
